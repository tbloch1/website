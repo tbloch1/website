{
  "nbformat": 4,
  "nbformat_minor": 0,
  "metadata": {
    "colab": {
      "name": "covid.ipynb",
      "provenance": [],
      "collapsed_sections": []
    },
    "kernelspec": {
      "name": "python3",
      "display_name": "Python 3"
    },
    "widgets": {
      "application/vnd.jupyter.widget-state+json": {
        "cbc740a7e38346f0893216db649dc63b": {
          "model_module": "@jupyter-widgets/controls",
          "model_name": "VBoxModel",
          "state": {
            "_view_name": "VBoxView",
            "_dom_classes": [
              "widget-interact"
            ],
            "_model_name": "VBoxModel",
            "_view_module": "@jupyter-widgets/controls",
            "_model_module_version": "1.5.0",
            "_view_count": null,
            "_view_module_version": "1.5.0",
            "box_style": "",
            "layout": "IPY_MODEL_6e943548b23948acaae37b819f776a39",
            "_model_module": "@jupyter-widgets/controls",
            "children": [
              "IPY_MODEL_51b6133bd85546a1a4360830a0f64abe",
              "IPY_MODEL_e4f00d727ef4419ab257060d21fc6996",
              "IPY_MODEL_1f0a3ee035bc4da88cb27698699edf92",
              "IPY_MODEL_dd3cfe70019b4badbf89eb17905d41b5"
            ]
          }
        },
        "6e943548b23948acaae37b819f776a39": {
          "model_module": "@jupyter-widgets/base",
          "model_name": "LayoutModel",
          "state": {
            "_view_name": "LayoutView",
            "grid_template_rows": null,
            "right": null,
            "justify_content": null,
            "_view_module": "@jupyter-widgets/base",
            "overflow": null,
            "_model_module_version": "1.2.0",
            "_view_count": null,
            "flex_flow": null,
            "width": null,
            "min_width": null,
            "border": null,
            "align_items": null,
            "bottom": null,
            "_model_module": "@jupyter-widgets/base",
            "top": null,
            "grid_column": null,
            "overflow_y": null,
            "overflow_x": null,
            "grid_auto_flow": null,
            "grid_area": null,
            "grid_template_columns": null,
            "flex": null,
            "_model_name": "LayoutModel",
            "justify_items": null,
            "grid_row": null,
            "max_height": null,
            "align_content": null,
            "visibility": null,
            "align_self": null,
            "height": null,
            "min_height": null,
            "padding": null,
            "grid_auto_rows": null,
            "grid_gap": null,
            "max_width": null,
            "order": null,
            "_view_module_version": "1.2.0",
            "grid_template_areas": null,
            "object_position": null,
            "object_fit": null,
            "grid_auto_columns": null,
            "margin": null,
            "display": null,
            "left": null
          }
        },
        "51b6133bd85546a1a4360830a0f64abe": {
          "model_module": "@jupyter-widgets/controls",
          "model_name": "DropdownModel",
          "state": {
            "_options_labels": [
              "Afghanistan",
              "Albania",
              "Algeria",
              "Andorra",
              "Angola",
              "Anguilla",
              "Antigua_and_Barbuda",
              "Argentina",
              "Armenia",
              "Aruba",
              "Australia",
              "Austria",
              "Azerbaijan",
              "Bahamas",
              "Bahrain",
              "Bangladesh",
              "Barbados",
              "Belarus",
              "Belgium",
              "Belize",
              "Benin",
              "Bermuda",
              "Bhutan",
              "Bolivia",
              "Bonaire, Saint Eustatius and Saba",
              "Bosnia_and_Herzegovina",
              "Botswana",
              "Brazil",
              "British_Virgin_Islands",
              "Brunei_Darussalam",
              "Bulgaria",
              "Burkina_Faso",
              "Burundi",
              "Cambodia",
              "Cameroon",
              "Canada",
              "Cape_Verde",
              "Cases_on_an_international_conveyance_Japan",
              "Cayman_Islands",
              "Central_African_Republic",
              "Chad",
              "Chile",
              "China",
              "Colombia",
              "Comoros",
              "Congo",
              "Costa_Rica",
              "Cote_dIvoire",
              "Croatia",
              "Cuba",
              "Curaçao",
              "Cyprus",
              "Czechia",
              "Democratic_Republic_of_the_Congo",
              "Denmark",
              "Djibouti",
              "Dominica",
              "Dominican_Republic",
              "Ecuador",
              "Egypt",
              "El_Salvador",
              "Equatorial_Guinea",
              "Eritrea",
              "Estonia",
              "Eswatini",
              "Ethiopia",
              "Falkland_Islands_(Malvinas)",
              "Faroe_Islands",
              "Fiji",
              "Finland",
              "France",
              "French_Polynesia",
              "Gabon",
              "Gambia",
              "Georgia",
              "Germany",
              "Ghana",
              "Gibraltar",
              "Greece",
              "Greenland",
              "Grenada",
              "Guam",
              "Guatemala",
              "Guernsey",
              "Guinea",
              "Guinea_Bissau",
              "Guyana",
              "Haiti",
              "Holy_See",
              "Honduras",
              "Hungary",
              "Iceland",
              "India",
              "Indonesia",
              "Iran",
              "Iraq",
              "Ireland",
              "Isle_of_Man",
              "Israel",
              "Italy",
              "Jamaica",
              "Japan",
              "Jersey",
              "Jordan",
              "Kazakhstan",
              "Kenya",
              "Kosovo",
              "Kuwait",
              "Kyrgyzstan",
              "Laos",
              "Latvia",
              "Lebanon",
              "Lesotho",
              "Liberia",
              "Libya",
              "Liechtenstein",
              "Lithuania",
              "Luxembourg",
              "Madagascar",
              "Malawi",
              "Malaysia",
              "Maldives",
              "Mali",
              "Malta",
              "Mauritania",
              "Mauritius",
              "Mexico",
              "Moldova",
              "Monaco",
              "Mongolia",
              "Montenegro",
              "Montserrat",
              "Morocco",
              "Mozambique",
              "Myanmar",
              "Namibia",
              "Nepal",
              "Netherlands",
              "New_Caledonia",
              "New_Zealand",
              "Nicaragua",
              "Niger",
              "Nigeria",
              "North_Macedonia",
              "Northern_Mariana_Islands",
              "Norway",
              "Oman",
              "Pakistan",
              "Palestine",
              "Panama",
              "Papua_New_Guinea",
              "Paraguay",
              "Peru",
              "Philippines",
              "Poland",
              "Portugal",
              "Puerto_Rico",
              "Qatar",
              "Romania",
              "Russia",
              "Rwanda",
              "Saint_Kitts_and_Nevis",
              "Saint_Lucia",
              "Saint_Vincent_and_the_Grenadines",
              "San_Marino",
              "Sao_Tome_and_Principe",
              "Saudi_Arabia",
              "Senegal",
              "Serbia",
              "Seychelles",
              "Sierra_Leone",
              "Singapore",
              "Sint_Maarten",
              "Slovakia",
              "Slovenia",
              "Somalia",
              "South_Africa",
              "South_Korea",
              "South_Sudan",
              "Spain",
              "Sri_Lanka",
              "Sudan",
              "Suriname",
              "Sweden",
              "Switzerland",
              "Syria",
              "Taiwan",
              "Tajikistan",
              "Thailand",
              "Timor_Leste",
              "Togo",
              "Trinidad_and_Tobago",
              "Tunisia",
              "Turkey",
              "Turks_and_Caicos_islands",
              "Uganda",
              "Ukraine",
              "United_Arab_Emirates",
              "United_Kingdom",
              "United_Republic_of_Tanzania",
              "United_States_of_America",
              "United_States_Virgin_Islands",
              "Uruguay",
              "Uzbekistan",
              "Venezuela",
              "Vietnam",
              "Western_Sahara",
              "Yemen",
              "Zambia",
              "Zimbabwe"
            ],
            "_view_name": "DropdownView",
            "style": "IPY_MODEL_b41696dda8e746ac9ea171221862dca3",
            "_dom_classes": [],
            "description": "Country1",
            "_model_name": "DropdownModel",
            "index": 0,
            "_view_module": "@jupyter-widgets/controls",
            "_model_module_version": "1.5.0",
            "_view_count": null,
            "disabled": false,
            "_view_module_version": "1.5.0",
            "description_tooltip": null,
            "_model_module": "@jupyter-widgets/controls",
            "layout": "IPY_MODEL_ac8319261f054f07a20ce10ce4a2f52d"
          }
        },
        "e4f00d727ef4419ab257060d21fc6996": {
          "model_module": "@jupyter-widgets/controls",
          "model_name": "DropdownModel",
          "state": {
            "_options_labels": [
              "Austria",
              "Belgium",
              "Bulgaria",
              "Croatia",
              "Cyprus",
              "Czechia",
              "Denmark",
              "Estonia",
              "Finland",
              "France",
              "Germany",
              "Greece",
              "Hungary",
              "Iceland",
              "Ireland",
              "Italy",
              "Latvia",
              "Lithuania",
              "Luxembourg",
              "Malta",
              "Netherlands",
              "Norway",
              "Poland",
              "Portugal",
              "Romania",
              "Slovakia",
              "Slovenia",
              "Spain",
              "Sweden",
              "United Kingdom"
            ],
            "_view_name": "DropdownView",
            "style": "IPY_MODEL_e073bb3011b14e8fa64cf03ce48622d9",
            "_dom_classes": [],
            "description": "Country2",
            "_model_name": "DropdownModel",
            "index": 0,
            "_view_module": "@jupyter-widgets/controls",
            "_model_module_version": "1.5.0",
            "_view_count": null,
            "disabled": false,
            "_view_module_version": "1.5.0",
            "description_tooltip": null,
            "_model_module": "@jupyter-widgets/controls",
            "layout": "IPY_MODEL_52a61ff389ab41b6ae4dfd496167fb6f"
          }
        },
        "1f0a3ee035bc4da88cb27698699edf92": {
          "model_module": "@jupyter-widgets/controls",
          "model_name": "DropdownModel",
          "state": {
            "_options_labels": [
              "Daily hospital occupancy",
              "Daily ICU occupancy",
              "Weekly new hospital admissions per 100k",
              "Weekly new ICU admissions per 100k"
            ],
            "_view_name": "DropdownView",
            "style": "IPY_MODEL_103b794589f04965902c31da6c241c99",
            "_dom_classes": [],
            "description": "Indicator",
            "_model_name": "DropdownModel",
            "index": 0,
            "_view_module": "@jupyter-widgets/controls",
            "_model_module_version": "1.5.0",
            "_view_count": null,
            "disabled": false,
            "_view_module_version": "1.5.0",
            "description_tooltip": null,
            "_model_module": "@jupyter-widgets/controls",
            "layout": "IPY_MODEL_640cdbeb7c094732b9452bb57d80a275"
          }
        },
        "dd3cfe70019b4badbf89eb17905d41b5": {
          "model_module": "@jupyter-widgets/output",
          "model_name": "OutputModel",
          "state": {
            "_view_name": "OutputView",
            "msg_id": "",
            "_dom_classes": [],
            "_model_name": "OutputModel",
            "outputs": [
              {
                "output_type": "display_data",
                "metadata": {
                  "tags": []
                },
                "image/png": "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\n",
                "text/plain": "<Figure size 576x972 with 3 Axes>"
              }
            ],
            "_view_module": "@jupyter-widgets/output",
            "_model_module_version": "1.0.0",
            "_view_count": null,
            "_view_module_version": "1.0.0",
            "layout": "IPY_MODEL_f54c55530366413986821504c8337cda",
            "_model_module": "@jupyter-widgets/output"
          }
        },
        "b41696dda8e746ac9ea171221862dca3": {
          "model_module": "@jupyter-widgets/controls",
          "model_name": "DescriptionStyleModel",
          "state": {
            "_view_name": "StyleView",
            "_model_name": "DescriptionStyleModel",
            "description_width": "",
            "_view_module": "@jupyter-widgets/base",
            "_model_module_version": "1.5.0",
            "_view_count": null,
            "_view_module_version": "1.2.0",
            "_model_module": "@jupyter-widgets/controls"
          }
        },
        "ac8319261f054f07a20ce10ce4a2f52d": {
          "model_module": "@jupyter-widgets/base",
          "model_name": "LayoutModel",
          "state": {
            "_view_name": "LayoutView",
            "grid_template_rows": null,
            "right": null,
            "justify_content": null,
            "_view_module": "@jupyter-widgets/base",
            "overflow": null,
            "_model_module_version": "1.2.0",
            "_view_count": null,
            "flex_flow": null,
            "width": null,
            "min_width": null,
            "border": null,
            "align_items": null,
            "bottom": null,
            "_model_module": "@jupyter-widgets/base",
            "top": null,
            "grid_column": null,
            "overflow_y": null,
            "overflow_x": null,
            "grid_auto_flow": null,
            "grid_area": null,
            "grid_template_columns": null,
            "flex": null,
            "_model_name": "LayoutModel",
            "justify_items": null,
            "grid_row": null,
            "max_height": null,
            "align_content": null,
            "visibility": null,
            "align_self": null,
            "height": null,
            "min_height": null,
            "padding": null,
            "grid_auto_rows": null,
            "grid_gap": null,
            "max_width": null,
            "order": null,
            "_view_module_version": "1.2.0",
            "grid_template_areas": null,
            "object_position": null,
            "object_fit": null,
            "grid_auto_columns": null,
            "margin": null,
            "display": null,
            "left": null
          }
        },
        "e073bb3011b14e8fa64cf03ce48622d9": {
          "model_module": "@jupyter-widgets/controls",
          "model_name": "DescriptionStyleModel",
          "state": {
            "_view_name": "StyleView",
            "_model_name": "DescriptionStyleModel",
            "description_width": "",
            "_view_module": "@jupyter-widgets/base",
            "_model_module_version": "1.5.0",
            "_view_count": null,
            "_view_module_version": "1.2.0",
            "_model_module": "@jupyter-widgets/controls"
          }
        },
        "52a61ff389ab41b6ae4dfd496167fb6f": {
          "model_module": "@jupyter-widgets/base",
          "model_name": "LayoutModel",
          "state": {
            "_view_name": "LayoutView",
            "grid_template_rows": null,
            "right": null,
            "justify_content": null,
            "_view_module": "@jupyter-widgets/base",
            "overflow": null,
            "_model_module_version": "1.2.0",
            "_view_count": null,
            "flex_flow": null,
            "width": null,
            "min_width": null,
            "border": null,
            "align_items": null,
            "bottom": null,
            "_model_module": "@jupyter-widgets/base",
            "top": null,
            "grid_column": null,
            "overflow_y": null,
            "overflow_x": null,
            "grid_auto_flow": null,
            "grid_area": null,
            "grid_template_columns": null,
            "flex": null,
            "_model_name": "LayoutModel",
            "justify_items": null,
            "grid_row": null,
            "max_height": null,
            "align_content": null,
            "visibility": null,
            "align_self": null,
            "height": null,
            "min_height": null,
            "padding": null,
            "grid_auto_rows": null,
            "grid_gap": null,
            "max_width": null,
            "order": null,
            "_view_module_version": "1.2.0",
            "grid_template_areas": null,
            "object_position": null,
            "object_fit": null,
            "grid_auto_columns": null,
            "margin": null,
            "display": null,
            "left": null
          }
        },
        "103b794589f04965902c31da6c241c99": {
          "model_module": "@jupyter-widgets/controls",
          "model_name": "DescriptionStyleModel",
          "state": {
            "_view_name": "StyleView",
            "_model_name": "DescriptionStyleModel",
            "description_width": "",
            "_view_module": "@jupyter-widgets/base",
            "_model_module_version": "1.5.0",
            "_view_count": null,
            "_view_module_version": "1.2.0",
            "_model_module": "@jupyter-widgets/controls"
          }
        },
        "640cdbeb7c094732b9452bb57d80a275": {
          "model_module": "@jupyter-widgets/base",
          "model_name": "LayoutModel",
          "state": {
            "_view_name": "LayoutView",
            "grid_template_rows": null,
            "right": null,
            "justify_content": null,
            "_view_module": "@jupyter-widgets/base",
            "overflow": null,
            "_model_module_version": "1.2.0",
            "_view_count": null,
            "flex_flow": null,
            "width": null,
            "min_width": null,
            "border": null,
            "align_items": null,
            "bottom": null,
            "_model_module": "@jupyter-widgets/base",
            "top": null,
            "grid_column": null,
            "overflow_y": null,
            "overflow_x": null,
            "grid_auto_flow": null,
            "grid_area": null,
            "grid_template_columns": null,
            "flex": null,
            "_model_name": "LayoutModel",
            "justify_items": null,
            "grid_row": null,
            "max_height": null,
            "align_content": null,
            "visibility": null,
            "align_self": null,
            "height": null,
            "min_height": null,
            "padding": null,
            "grid_auto_rows": null,
            "grid_gap": null,
            "max_width": null,
            "order": null,
            "_view_module_version": "1.2.0",
            "grid_template_areas": null,
            "object_position": null,
            "object_fit": null,
            "grid_auto_columns": null,
            "margin": null,
            "display": null,
            "left": null
          }
        },
        "f54c55530366413986821504c8337cda": {
          "model_module": "@jupyter-widgets/base",
          "model_name": "LayoutModel",
          "state": {
            "_view_name": "LayoutView",
            "grid_template_rows": null,
            "right": null,
            "justify_content": null,
            "_view_module": "@jupyter-widgets/base",
            "overflow": null,
            "_model_module_version": "1.2.0",
            "_view_count": null,
            "flex_flow": null,
            "width": null,
            "min_width": null,
            "border": null,
            "align_items": null,
            "bottom": null,
            "_model_module": "@jupyter-widgets/base",
            "top": null,
            "grid_column": null,
            "overflow_y": null,
            "overflow_x": null,
            "grid_auto_flow": null,
            "grid_area": null,
            "grid_template_columns": null,
            "flex": null,
            "_model_name": "LayoutModel",
            "justify_items": null,
            "grid_row": null,
            "max_height": null,
            "align_content": null,
            "visibility": null,
            "align_self": null,
            "height": null,
            "min_height": null,
            "padding": null,
            "grid_auto_rows": null,
            "grid_gap": null,
            "max_width": null,
            "order": null,
            "_view_module_version": "1.2.0",
            "grid_template_areas": null,
            "object_position": null,
            "object_fit": null,
            "grid_auto_columns": null,
            "margin": null,
            "display": null,
            "left": null
          }
        }
      }
    }
  },
  "cells": [
    {
      "cell_type": "code",
      "metadata": {
        "id": "eGMBPDg2meNb",
        "colab_type": "code",
        "colab": {}
      },
      "source": [
        "import numpy as np\n",
        "import pandas as pd\n",
        "import datetime as dt\n",
        "\n",
        "import requests\n",
        "import xlrd\n",
        "import csv\n",
        "\n",
        "import matplotlib.pyplot as plt\n",
        "from IPython.display import clear_output\n",
        "try:\n",
        "  import mplcyberpunk\n",
        "except:\n",
        "  !pip install mplcyberpunk\n",
        "  clear_output()\n",
        "  import mplcyberpunk\n",
        "\n",
        "plt.style.use(\"cyberpunk\")\n",
        "\n",
        "\n",
        "import ipywidgets as widgets\n",
        "from ipywidgets import interact, interact_manual\n",
        "from ipywidgets.embed import embed_minimal_html\n",
        "\n",
        "try:\n",
        "  import nbinteract as nbi\n",
        "except:\n",
        "  !pip install nbinteract\n",
        "  clear_output()\n",
        "  import nbinteract as nbi\n",
        "\n",
        "import os"
      ],
      "execution_count": 2,
      "outputs": []
    },
    {
      "cell_type": "code",
      "metadata": {
        "id": "1vLYcX1gmqfh",
        "colab_type": "code",
        "colab": {}
      },
      "source": [
        "def csv_from_excel(filename,sheetname):\n",
        "    wb = xlrd.open_workbook(filename+'.xlsx')\n",
        "    sh = wb.sheet_by_name(sheetname)\n",
        "    your_csv_file = open(filename+'.csv', 'w')\n",
        "    wr = csv.writer(your_csv_file, quoting=csv.QUOTE_ALL)\n",
        "\n",
        "    for rownum in range(sh.nrows):\n",
        "        wr.writerow(sh.row_values(rownum))\n",
        "\n",
        "    your_csv_file.close()"
      ],
      "execution_count": 3,
      "outputs": []
    },
    {
      "cell_type": "code",
      "metadata": {
        "id": "0Zi7OD88m76Y",
        "colab_type": "code",
        "colab": {}
      },
      "source": [
        "dailycases = requests.get('https://opendata.ecdc.europa.eu/covid19/casedistribution/csv')\n",
        "\n",
        "if dailycases.status_code == 200:\n",
        "    with open('dailycases.csv', 'wb') as f:\n",
        "        f.write(dailycases.content)"
      ],
      "execution_count": 4,
      "outputs": []
    },
    {
      "cell_type": "code",
      "metadata": {
        "id": "DW7XugHynurf",
        "colab_type": "code",
        "colab": {
          "base_uri": "https://localhost:8080/",
          "height": 36
        },
        "outputId": "1297a700-1bbb-4d65-8777-4e0675f3afd2"
      },
      "source": [
        "testingdata = requests.get('https://www.ecdc.europa.eu/sites/default/files/documents/weekly_testing_data_EUEEAUK_2020-09-16.xlsx')\n",
        "\n",
        "if testingdata.status_code == 200:\n",
        "    with open('testingdata.xlsx', 'wb') as f:\n",
        "        f.write(testingdata.content)\n",
        "\n",
        "wb = xlrd.open_workbook('testingdata.xlsx')\n",
        "print(wb.sheet_names())\n",
        "\n",
        "csv_from_excel('testingdata','Sheet1')"
      ],
      "execution_count": 5,
      "outputs": [
        {
          "output_type": "stream",
          "text": [
            "['Sheet1']\n"
          ],
          "name": "stdout"
        }
      ]
    },
    {
      "cell_type": "code",
      "metadata": {
        "id": "Qh_lqH1d0laO",
        "colab_type": "code",
        "colab": {}
      },
      "source": [
        "dog = dt.date.today() - dt.timedelta(days=1)"
      ],
      "execution_count": 6,
      "outputs": []
    },
    {
      "cell_type": "code",
      "metadata": {
        "id": "8VhMl8D00bRk",
        "colab_type": "code",
        "colab": {
          "base_uri": "https://localhost:8080/",
          "height": 36
        },
        "outputId": "54d80ade-76bd-4eed-8f34-5e6ced72fac9"
      },
      "source": [
        "ndays = 0\n",
        "\n",
        "while not pd.isna(ndays):\n",
        "  date = dt.date.today() - ndays*dt.timedelta(days=1)\n",
        "\n",
        "  hospitaldata = requests.get('https://www.ecdc.europa.eu/sites/default/files/documents/hosp_icu_all_data_'+str(date)+'.xlsx')\n",
        "\n",
        "  if hospitaldata.status_code == 200:\n",
        "      ndays = np.nan\n",
        "      with open('hospitaldata.xlsx', 'wb') as f:\n",
        "          f.write(hospitaldata.content)\n",
        "  else:\n",
        "    ndays = ndays+1\n",
        "\n",
        "wb = xlrd.open_workbook('hospitaldata.xlsx')\n",
        "print(wb.sheet_names())\n",
        "\n",
        "csv_from_excel('hospitaldata','Sheet1')"
      ],
      "execution_count": 7,
      "outputs": [
        {
          "output_type": "stream",
          "text": [
            "['Sheet1']\n"
          ],
          "name": "stdout"
        }
      ]
    },
    {
      "cell_type": "code",
      "metadata": {
        "id": "Qiw_epjioZv5",
        "colab_type": "code",
        "colab": {
          "base_uri": "https://localhost:8080/",
          "height": 73
        },
        "outputId": "96f705e5-6ccd-43ae-b9bb-b3e465f2f152"
      },
      "source": [
        "year = dt.date.today().isocalendar()[0]\n",
        "week = dt.date.today().isocalendar()[1]\n",
        "\n",
        "while not np.isnan(week):\n",
        "  deathdata = requests.get('https://www.ons.gov.uk/file?uri=/peoplepopulationandcommunity/healthandsocialcare/causesofdeath/datasets/deathregistrationsandoccurrencesbylocalauthorityandhealthboard/'+str(year)+'/lahbtablesweek'+str(week)+'.xlsx')\n",
        "  \n",
        "  if deathdata.status_code == 200:\n",
        "      week = np.nan\n",
        "      with open('deathdata.xlsx', 'wb') as f:\n",
        "          f.write(deathdata.content)\n",
        "  else:\n",
        "    print(week)\n",
        "    week = week - 1\n",
        "wb = xlrd.open_workbook('deathdata.xlsx')\n",
        "print(wb.sheet_names())\n",
        "\n",
        "csv_from_excel('deathdata','Registrations - All data')"
      ],
      "execution_count": 8,
      "outputs": [
        {
          "output_type": "stream",
          "text": [
            "38\n",
            "37\n",
            "['Contents', 'Information', 'Terms and conditions', 'Registrations - All data', 'Registrations - Pivot table', 'Occurrences - All data', 'Occurrences - Pivot table']\n"
          ],
          "name": "stdout"
        }
      ]
    },
    {
      "cell_type": "code",
      "metadata": {
        "id": "PuP15tQvpLSa",
        "colab_type": "code",
        "colab": {
          "base_uri": "https://localhost:8080/",
          "height": 75
        },
        "outputId": "cab7dde7-2410-47e7-ae09-06560f38dc21"
      },
      "source": [
        "cases = pd.read_csv('dailycases.csv')\n",
        "tests = pd.read_csv('testingdata.csv')\n",
        "hospital = pd.read_csv('hospitaldata.csv')\n",
        "death = pd.read_csv('deathdata.csv')"
      ],
      "execution_count": 9,
      "outputs": [
        {
          "output_type": "stream",
          "text": [
            "/usr/local/lib/python3.6/dist-packages/IPython/core/interactiveshell.py:2718: DtypeWarning: Columns (4,6) have mixed types.Specify dtype option on import or set low_memory=False.\n",
            "  interactivity=interactivity, compiler=compiler, result=result)\n"
          ],
          "name": "stderr"
        }
      ]
    },
    {
      "cell_type": "code",
      "metadata": {
        "id": "ZWJBos6FwNpM",
        "colab_type": "code",
        "colab": {}
      },
      "source": [
        "death.columns = death.iloc[2].values\n",
        "death = death[3:]"
      ],
      "execution_count": 10,
      "outputs": []
    },
    {
      "cell_type": "code",
      "metadata": {
        "id": "ou1GZogDz59f",
        "colab_type": "code",
        "colab": {
          "base_uri": "https://localhost:8080/",
          "height": 243
        },
        "outputId": "f6dec66b-8f0f-4ee4-e494-19b620705994"
      },
      "source": [
        "cases.columns, tests.columns, hospital.columns, death.columns"
      ],
      "execution_count": 11,
      "outputs": [
        {
          "output_type": "execute_result",
          "data": {
            "text/plain": [
              "(Index(['dateRep', 'day', 'month', 'year', 'cases', 'deaths',\n",
              "        'countriesAndTerritories', 'geoId', 'countryterritoryCode',\n",
              "        'popData2019', 'continentExp',\n",
              "        'Cumulative_number_for_14_days_of_COVID-19_cases_per_100000'],\n",
              "       dtype='object'),\n",
              " Index(['country', 'country_code', 'year_week', 'new_cases', 'tests_done',\n",
              "        'population', 'testing_rate', 'positivity_rate', 'testing_data_source'],\n",
              "       dtype='object'),\n",
              " Index(['country', 'indicator', 'date', 'year_week', 'value', 'source', 'url'], dtype='object'),\n",
              " Index(['Area code', 'Geography type', 'Area name ', 'Cause of death',\n",
              "        'Week number', 'Place of death', 'Number of deaths'],\n",
              "       dtype='object'))"
            ]
          },
          "metadata": {
            "tags": []
          },
          "execution_count": 11
        }
      ]
    },
    {
      "cell_type": "code",
      "metadata": {
        "id": "acmtP6ebwtq6",
        "colab_type": "code",
        "colab": {}
      },
      "source": [
        "cases.index = [dt.datetime(year,month,day) for year,month,day\n",
        "               in zip(cases.year.values,cases.month.values,cases.day.values)]\n",
        "\n",
        "week = dt.timedelta(days=7)\n",
        "tests.index = [dt.datetime(2020,1,6)+week*(int(i[-2:])-2)\n",
        "               if int(i[-2:]) != 1 else dt.datetime(2020,1,1)\n",
        "               for i in tests.year_week]\n",
        "\n",
        "hospital['datetime'] = [dt.datetime.strptime(i,'%Y-%m-%d') if not pd.isna(i) else\n",
        "                        dt.datetime(2020,1,6)+week*(int(j[-2:])-2)\n",
        "                        if int(j[-2:]) != 1 else dt.datetime(2020,1,1)\n",
        "                        for i,j in zip(hospital.date,hospital.year_week)]\n",
        "\n",
        "death.index = [dt.datetime(2020,1,6)+week*(int(float(i))-2)\n",
        "               if int(float(i)) != 1 else dt.datetime(2020,1,1)\n",
        "               for i in death['Week number'].values]"
      ],
      "execution_count": 12,
      "outputs": []
    },
    {
      "cell_type": "code",
      "metadata": {
        "id": "53rDJBNd6-f1",
        "colab_type": "code",
        "colab": {}
      },
      "source": [
        "C1 = widgets.Dropdown(options = cases.countriesAndTerritories.unique())\n",
        "C2 = widgets.Dropdown(options = hospital.country.unique())\n",
        "In1 = widgets.Dropdown(options = hospital.indicator.unique())\n",
        "\n",
        "\n",
        "def intplot(Country1,Country2,Indicator):\n",
        "\n",
        "  ccases = cases[cases.countriesAndTerritories == Country1]\n",
        "  chosp = hospital[hospital.country == Country2]\n",
        "\n",
        "  plt.figure(figsize=(8,13.5))\n",
        "  ax1,ax2,ax3 = plt.subplot(311),plt.subplot(312),plt.subplot(313)\n",
        "\n",
        "  ax1.plot(ccases.index,ccases.cases)\n",
        "  ax2.plot(ccases.index,ccases.deaths)\n",
        "  ax3.plot(chosp[chosp.indicator==Indicator].datetime,\n",
        "          chosp[chosp.indicator==Indicator].value)\n",
        "\n",
        "  ax1.set_title(Country1+': Daily Cases')\n",
        "  ax2.set_title(Country1+': Daily Deaths')\n",
        "  ax3.set_title(Country2+': '+Indicator)\n",
        "  plt.show()"
      ],
      "execution_count": 13,
      "outputs": []
    },
    {
      "cell_type": "code",
      "metadata": {
        "id": "iAKkWs_bAV6l",
        "colab_type": "code",
        "colab": {
          "base_uri": "https://localhost:8080/",
          "height": 908,
          "referenced_widgets": [
            "cbc740a7e38346f0893216db649dc63b",
            "6e943548b23948acaae37b819f776a39",
            "51b6133bd85546a1a4360830a0f64abe",
            "e4f00d727ef4419ab257060d21fc6996",
            "1f0a3ee035bc4da88cb27698699edf92",
            "dd3cfe70019b4badbf89eb17905d41b5",
            "b41696dda8e746ac9ea171221862dca3",
            "ac8319261f054f07a20ce10ce4a2f52d",
            "e073bb3011b14e8fa64cf03ce48622d9",
            "52a61ff389ab41b6ae4dfd496167fb6f",
            "103b794589f04965902c31da6c241c99",
            "640cdbeb7c094732b9452bb57d80a275",
            "f54c55530366413986821504c8337cda"
          ]
        },
        "outputId": "3062e15e-2977-4620-b9e1-7d6223ec8208"
      },
      "source": [
        "interact(intplot,Country1=C1,Country2=C2,Indicator=In1)"
      ],
      "execution_count": 14,
      "outputs": [
        {
          "output_type": "display_data",
          "data": {
            "application/vnd.jupyter.widget-view+json": {
              "model_id": "cbc740a7e38346f0893216db649dc63b",
              "version_minor": 0,
              "version_major": 2
            },
            "text/plain": [
              "interactive(children=(Dropdown(description='Country1', options=('Afghanistan', 'Albania', 'Algeria', 'Andorra'…"
            ]
          },
          "metadata": {
            "tags": []
          }
        },
        {
          "output_type": "execute_result",
          "data": {
            "text/plain": [
              "<function __main__.intplot>"
            ]
          },
          "metadata": {
            "tags": []
          },
          "execution_count": 14
        }
      ]
    },
    {
      "cell_type": "code",
      "metadata": {
        "id": "nlQfnx14DdxY",
        "colab_type": "code",
        "colab": {}
      },
      "source": [
        "embed_minimal_html('interactive_plot.html', views=None, title='Widgets export')"
      ],
      "execution_count": 16,
      "outputs": []
    },
    {
      "cell_type": "code",
      "metadata": {
        "id": "oHd69nZlMZFX",
        "colab_type": "code",
        "colab": {}
      },
      "source": [
        "try:\n",
        "  import nbinteract as nbi\n",
        "except:\n",
        "  !pip install nbinteract\n",
        "  clear_output()\n",
        "  import nbinteract as nbi\n",
        "\n",
        "import os"
      ],
      "execution_count": 28,
      "outputs": []
    },
    {
      "cell_type": "code",
      "metadata": {
        "id": "JVulzDr_5XH6",
        "colab_type": "code",
        "colab": {
          "base_uri": "https://localhost:8080/",
          "height": 36
        },
        "outputId": "de6a778e-f886-4e72-9d3a-8732aa4c6fd6"
      },
      "source": [
        ""
      ],
      "execution_count": 30,
      "outputs": [
        {
          "output_type": "execute_result",
          "data": {
            "application/vnd.google.colaboratory.intrinsic+json": {
              "type": "string"
            },
            "text/plain": [
              "'/content'"
            ]
          },
          "metadata": {
            "tags": []
          },
          "execution_count": 30
        }
      ]
    },
    {
      "cell_type": "code",
      "metadata": {
        "id": "FllHirEy4DJq",
        "colab_type": "code",
        "colab": {
          "base_uri": "https://localhost:8080/",
          "height": 306
        },
        "outputId": "8afd8667-d101-4ea0-ff7f-4596e1a0ad7d"
      },
      "source": [
        "nbi.publish('tbloch1/website/master', '/content/covid.ipynb')"
      ],
      "execution_count": 31,
      "outputs": [
        {
          "output_type": "error",
          "ename": "ValueError",
          "evalue": "ignored",
          "traceback": [
            "\u001b[0;31m---------------------------------------------------------------------------\u001b[0m",
            "\u001b[0;31mValueError\u001b[0m                                Traceback (most recent call last)",
            "\u001b[0;32m<ipython-input-31-50e1b4e974f9>\u001b[0m in \u001b[0;36m<module>\u001b[0;34m()\u001b[0m\n\u001b[0;32m----> 1\u001b[0;31m \u001b[0mnbi\u001b[0m\u001b[0;34m.\u001b[0m\u001b[0mpublish\u001b[0m\u001b[0;34m(\u001b[0m\u001b[0;34m'tbloch1/website/master'\u001b[0m\u001b[0;34m,\u001b[0m \u001b[0;34m'/content/covid.ipynb'\u001b[0m\u001b[0;34m)\u001b[0m\u001b[0;34m\u001b[0m\u001b[0;34m\u001b[0m\u001b[0m\n\u001b[0m",
            "\u001b[0;32m/usr/local/lib/python3.6/dist-packages/nbinteract/exporters.py\u001b[0m in \u001b[0;36mpublish\u001b[0;34m(spec, nb_name, template, save_first)\u001b[0m\n\u001b[1;32m    192\u001b[0m         raise ValueError(\n\u001b[1;32m    193\u001b[0m             \u001b[0;34m\"{} isn't a path to a file. Double check your \"\u001b[0m\u001b[0;34m\u001b[0m\u001b[0;34m\u001b[0m\u001b[0m\n\u001b[0;32m--> 194\u001b[0;31m             \u001b[0;34m\"filename and try again.\"\u001b[0m\u001b[0;34m.\u001b[0m\u001b[0mformat\u001b[0m\u001b[0;34m(\u001b[0m\u001b[0mnb_name\u001b[0m\u001b[0;34m)\u001b[0m\u001b[0;34m\u001b[0m\u001b[0;34m\u001b[0m\u001b[0m\n\u001b[0m\u001b[1;32m    195\u001b[0m         )\n\u001b[1;32m    196\u001b[0m \u001b[0;34m\u001b[0m\u001b[0m\n",
            "\u001b[0;31mValueError\u001b[0m: /content/covid.ipynb isn't a path to a file. Double check your filename and try again."
          ]
        }
      ]
    },
    {
      "cell_type": "code",
      "metadata": {
        "id": "2kG9Ee5R4Yp-",
        "colab_type": "code",
        "colab": {}
      },
      "source": [
        ""
      ],
      "execution_count": null,
      "outputs": []
    }
  ]
}